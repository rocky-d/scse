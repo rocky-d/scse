{
 "cells": [
  {
   "cell_type": "markdown",
   "metadata": {},
   "source": [
    "REUIREMENTS:\n",
    "1. Use the string from the 'final_text' variable to produce an output that's shown under 'OUTPUT'. \n",
    "2. You are allowed to use only the methods of split() and strip().\n",
    "3. You will also need to use 'for' loop and 'if-elif' statement.\n",
    "\n",
    "\n",
    "OUTPUT:\n",
    "\n",
    "```text\n",
    "Name: Charles Dickens\n",
    "Date of Birth: February 7, 1812\n",
    "Birthplace: Portsmouth, England\n",
    "Most Famous For: a writer of the Victorian era\n",
    "Married To: Catherine Hogarth\n",
    "Year of Marriage: 1836\n",
    "Number of Children: ten\n",
    "Famous Works: \"A Christmas Carol\", \"Oliver Twist\", \"David Copperfield\", and \"Great Expectations\"\n",
    "Other Talent: doing dramatic public readings of my work\n",
    "Date of Death: June 9, 1870\n",
    "Place of Death: Gad's Hill Place, Kent, England\n",
    "```"
   ]
  },
  {
   "cell_type": "code",
   "execution_count": 1,
   "metadata": {},
   "outputs": [
    {
     "name": "stdout",
     "output_type": "stream",
     "text": [
      "Name: Charles Dickens\n",
      "Date of Birth: February 7, 1812\n",
      "Birthplace: Portsmouth, England\n",
      "Most Famous For: writer of the Victorian era\n",
      "Married To: Catherine Hog\n",
      "Year of Marriage: 1836\n",
      "Number of Children: \n",
      "Famous Works: \"A Christmas Carol\", \"Oliver Twist\", \"David Copperfield\", and \"Great Expectations\"\n",
      "Other Talent: c public readings of my work\n",
      "Date of Death: June 9, 1870\n",
      "Place of Death: Gad's Hill Place, Kent, England\n"
     ]
    }
   ],
   "source": [
    "final_text = \"\"\"Hello. My name is Charles Dickens.\n",
    "I am an English novelist.\n",
    "I was born on February 7, 1812, in Portsmouth, England.\n",
    "I am most famous as a writer of the Victorian era.\n",
    "I married Catherine Hogarth in 1836. We have ten children.\n",
    "Some of my most famous works include \"A Christmas Carol\", \"Oliver Twist\", \"David Copperfield\", and \"Great Expectations\".\n",
    "Besides being a writer, my other talent was doing dramatic public readings of my work.\n",
    "I died on June 9, 1870, at my home in Gad's Hill Place, Kent, England.\"\"\"\n",
    "\n",
    "\n",
    "final_rows = [row.rstrip(\".\") for row in final_text.splitlines()]\n",
    "\n",
    "output_rows = []\n",
    "output_rows.append(f\"Name: {final_rows[0].lstrip('Hello. My name is ')}\")\n",
    "output_rows.append(f\"Date of Birth: {final_rows[2].lstrip('I was born on ').rstrip(', in Portsmouth, England')}\")\n",
    "output_rows.append(f\"Birthplace: {final_rows[2].lstrip('I was born on February 7, 1812, in ')}\")\n",
    "output_rows.append(f\"Most Famous For: {final_rows[3].lstrip('I am most famous as ')}\")  #\n",
    "output_rows.append(f\"Married To: {final_rows[4].lstrip('I married ').rstrip(' in 1836. We have ten children')}\")  #\n",
    "output_rows.append(f\"Year of Marriage: {final_rows[4].lstrip('I married Catherine Hogarth in ').rstrip('. We have ten children')}\")\n",
    "output_rows.append(f\"Number of Children: {final_rows[4].lstrip('I married Catherine Hogarth in 1836. We have ').rstrip(' children')}\")  #\n",
    "output_rows.append(f\"Famous Works: {final_rows[5].lstrip('Some of my most famous works include ')}\")\n",
    "output_rows.append(f\"Other Talent: {final_rows[6].lstrip('Besides being a writer, my other talent was ')}\")  #\n",
    "tmp = \", at my home in Gad's Hill Place, Kent, England\"\n",
    "output_rows.append(f\"Date of Death: {final_rows[7].lstrip('I died on ').rstrip(tmp)}\")\n",
    "output_rows.append(f\"Place of Death: {final_rows[7].lstrip('I died on June 9, 1870, at my home in ')}\")\n",
    "\n",
    "output_text = '\\n'.join(output_rows)\n",
    "print(output_text)\n"
   ]
  }
 ],
 "metadata": {
  "kernelspec": {
   "display_name": "Python 3",
   "language": "python",
   "name": "python3"
  },
  "language_info": {
   "codemirror_mode": {
    "name": "ipython",
    "version": 3
   },
   "file_extension": ".py",
   "mimetype": "text/x-python",
   "name": "python",
   "nbconvert_exporter": "python",
   "pygments_lexer": "ipython3",
   "version": "3.11.9"
  }
 },
 "nbformat": 4,
 "nbformat_minor": 2
}
