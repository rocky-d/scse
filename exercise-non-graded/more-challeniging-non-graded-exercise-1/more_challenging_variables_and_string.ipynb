{
 "cells": [
  {
   "cell_type": "markdown",
   "metadata": {},
   "source": [
    "REUIREMENTS:\n",
    "1. Use the string from the 'final_text' variable to produce an output that's shown under 'OUTPUT'. \n",
    "2. You are allowed to use only the methods of split() and strip().\n",
    "3. You will also need to use 'for' loop and 'if-elif' statement.\n",
    "\n",
    "\n",
    "OUTPUT:\n",
    "\n",
    "Name: Charles Dickens\n",
    "Date of Birth: February 7, 1812\n",
    "Birthplace: Portsmouth, England\n",
    "Most Famous For: a writer of the Victorian era\n",
    "Married To: Catherine Hogarth\n",
    "Year of Marriage: 1836\n",
    "Number of Children: ten\n",
    "Famous Works: \"A Christmas Carol\", \"Oliver Twist\", \"David Copperfield\", and \"Great Expectations\"\n",
    "Other Talent: doing dramatic public readings of my work\n",
    "Date of Death: June 9, 1870\n",
    "Place of Death: Gad's Hill Place, Kent, England"
   ]
  },
  {
   "cell_type": "code",
   "execution_count": null,
   "metadata": {},
   "outputs": [],
   "source": [
    "final_text = \"\"\"Hello. My name is Charles Dickens.\n",
    "I am an English novelist.\n",
    "I was born on February 7, 1812, in Portsmouth, England.\n",
    "I am most famous as a writer of the Victorian era.\n",
    "I married Catherine Hogarth in 1836. We have ten children.\n",
    "Some of my most famous works include \"A Christmas Carol\", \"Oliver Twist\", \"David Copperfield\", and \"Great Expectations\".\n",
    "Besides being a writer, my other talent was doing dramatic public readings of my work.\n",
    "I died on June 9, 1870, at my home in Gad's Hill Place, Kent, England.\"\"\"\n",
    "\n",
    "\n"
   ]
  }
 ],
 "metadata": {
  "kernelspec": {
   "display_name": "Python 3",
   "language": "python",
   "name": "python3"
  },
  "language_info": {
   "name": "python",
   "version": "3.11.5"
  }
 },
 "nbformat": 4,
 "nbformat_minor": 2
}
