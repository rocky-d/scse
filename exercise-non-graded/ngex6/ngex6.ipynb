{
 "cells": [
  {
   "cell_type": "markdown",
   "metadata": {},
   "source": [
    "Some typical NumPy 'random' functions:"
   ]
  },
  {
   "cell_type": "code",
   "execution_count": null,
   "metadata": {},
   "outputs": [],
   "source": [
    "import numpy as np\n",
    "\n",
    "# To generate a random float values between 0 and 1 (exclusive)\n",
    "print(np.random.rand(3, 2)) # Creates a 3 x 2 matrix of random float values between 0 and 1 (exclusive)\n",
    "\n",
    "# To generate random float values from standard normal distribution (mean = 0 and std = 1)\n",
    "print(np.random.randn(5)) # Generates 5 random float values from standard normal distribution\n",
    "\n",
    "# To generate random integer values within a range of values\n",
    "print(np.random.randint(1, 100, 10)) # Generates 10 random integer values between 1 and 100 (exclusive)\n",
    "\n",
    "# To randomly select an element from a given list of elements\n",
    "print(np.random.choice([1, 2, 3, 4, 5, 6, 7, 8, 9], size=3)) # Three random numbers from the given array will be chosen\n",
    "\n",
    "# To generate a random sample of values from a normally distributed with a specified mean and standard deviation\n",
    "print(np.random.normal(loc=0, scale=1, size=10)) # 10 random values will be generated from a normally distributed data where 0 (loc) is the mean and 1 (scale) is the standard deviation\n",
    "\n",
    "# To set a seed for a random number generation to ensure you get the same results later as well\n",
    "print(np.random.seed(42)) # This ensures that any random numbers generated in the program are same every time you run the program. The seed value '42' can be any other value"
   ]
  },
  {
   "cell_type": "markdown",
   "metadata": {},
   "source": [
    "AIM #1: Generate a very large dataset\n",
    "1. Generate a dataset of 1 million random data items between 1 and 100 items using only pandas\n",
    "2. Generate a dataset of 1 million random data items between 1 and 100 using only NumPy\n",
    "3. Calculate the time it takes for both the above operations. \n",
    "    3.1. Import the 'time' module, and use the time() function to calculate current time\n",
    "    3.2. Which one is faster and why?"
   ]
  },
  {
   "cell_type": "code",
   "execution_count": null,
   "metadata": {},
   "outputs": [],
   "source": [
    "# Write your code for AIM #1 here"
   ]
  },
  {
   "cell_type": "markdown",
   "metadata": {},
   "source": [
    "AIM #2: Basic statistics\n",
    "For the given dataset on sleep health and lifestyle, do the following\n",
    "1. Using only pandas, load the dataset, calculate mean 'Sleep Duration', 'Systolic Blood Pressure', 'Diastolic Blood Pressure', 'Heart Rate' and 'Daily Steps'.\n",
    "2. Do the same as in Step 1 using only NumPy\n",
    "3. Using only pandas, first calculate correlation (across only the numerical variables), and then separate correlation between...\n",
    "    Sleep duration and Age\n",
    "    Sleep duration and Heart rate\n",
    "    Sleep duration and Daily steps\n",
    "4. Using only NumPy, do the same as Step 3\n",
    "5. Using pandas only, calculate standard deviation for 'Sleep Duration'. \n",
    "6. Usiong NumPy only, calculate standard deviation for 'Sleep Duration'. \n",
    "7. Calculate the time difference between using pandas and NumPy, right from the step of loading the dataset to the final standard deviation step. \n",
    "    5.1. Which one is faster and why?"
   ]
  },
  {
   "cell_type": "code",
   "execution_count": null,
   "metadata": {},
   "outputs": [],
   "source": [
    "# Write your code for AIM #2 here\n",
    "\n",
    "# Loading the CSV file as an array in NumPy\n",
    "data = np.genfromtxt('sleep_health.csv', delimiter=',', skip_header=0, dtype=None, encoding='utf-8', names=True)\n",
    "\n",
    "\n",
    "# Create separate arrays for the individual columns that you want to operate on\n",
    "# For example, to create a separate array for 'Age' column\n",
    "age = data['Age'].astype(int)\n",
    "\n",
    "\n",
    "\n",
    "\n",
    "\n",
    "\n",
    "# Calculate the correlation in NumPy using np.corrcoef()\n",
    "\n",
    "# The correlation coefficient is located in the off-diagonal elements [0,1] or [1,0]\n",
    "\n",
    "\n",
    "# Use np-std() to calculate Standard deviation\n",
    "\n"
   ]
  },
  {
   "cell_type": "markdown",
   "metadata": {},
   "source": [
    "AIM #3: Use suitable plots to visualize the data\n",
    "\n",
    "1. Using only pandas (and matplotlib/seaborn if necessary) plot the distribution for\n",
    "    1.1. Age\n",
    "    1.2. Sleep Duration\n",
    "    1.3. Quality of Sleep\n",
    "    1.4. Physical Activity Level\n",
    "    1.5. Stress Level\n",
    "    1.6. Heart Rate\n",
    "2. Using only NumPy, do the same as Step 1. You will need matplotlib for this\n",
    "3. Using only pandas, use the appropriate plot to\n",
    "    3.1. See the distribution of 'Sleep Duration' based on 'Quality of Sleep'\n",
    "    3.2. See the distribution of 'Sleep Duration' based on 'Stress Level'\n",
    "    3.3. See the distribution of 'Sleep Duration' based on 'Physical Activity Level'\n",
    "    3.4. See the distribution of 'Sleep Duration' based on 'Occupation'\n",
    "    3.5. See the distribution of 'Sleep Duration' based on 'BMI'\n",
    "4. Using only NumPy, do the same as Step 3. You will need matplotlib for this\n",
    "5. Using only pandas, use a suitable plot to see the relation between\n",
    "    5.1. Age and Sleep Duration\n",
    "    5.2. Sleep Duration and Heart Rate\n",
    "    5.3. Heart Rate and Daily Steps\n",
    "    5.4. Sleep Duration and Daily Steps\n",
    "6. Using only NumPy, do the same as Step 5. You will need matplotlib for this \n",
    "7. Find the time difference between plotting using only pandas, and plotting using NumPy"
   ]
  },
  {
   "cell_type": "code",
   "execution_count": null,
   "metadata": {},
   "outputs": [],
   "source": [
    "# Write your code for AIM #3 here\n",
    "\n",
    "\n",
    "\n",
    "#To count unique values and their total count in a NumPy array, use \n",
    "# np.unique(array_name, return_counts=True)--- This will return two values, one is the unique values and the other is the total count of each unique value\n",
    "# You will need this for plotting bar plots\n",
    "\n",
    "\n",
    "\n",
    "\n",
    "# For box plots in NumPy you will need to \n",
    "# create a list of variable1, grouped by the unique value of some variable2 (nominal or ordinal), \n",
    "# Syntax: variable1_list = [variable1[variable2 == i] for i in np.unique(variable2)]\n"
   ]
  },
  {
   "cell_type": "markdown",
   "metadata": {},
   "source": [
    "AIM #4: Other possible plotting\n",
    "\n",
    "1. Think of other possible plots to show some interesting distribution and relations. Do this using both pandas and NumPy\n",
    "\n"
   ]
  }
 ],
 "metadata": {
  "kernelspec": {
   "display_name": "Python 3",
   "language": "python",
   "name": "python3"
  },
  "language_info": {
   "codemirror_mode": {
    "name": "ipython",
    "version": 3
   },
   "file_extension": ".py",
   "mimetype": "text/x-python",
   "name": "python",
   "nbconvert_exporter": "python",
   "pygments_lexer": "ipython3",
   "version": "3.11.5"
  }
 },
 "nbformat": 4,
 "nbformat_minor": 2
}
