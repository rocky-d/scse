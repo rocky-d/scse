{
 "cells": [
  {
   "cell_type": "markdown",
   "metadata": {},
   "source": [
    "You are given parts of speech and a short text. Using these, program the following:\n",
    "\n",
    "REQUIREMENTS:\n",
    "1. First, break the big paragraph into list of words\n",
    "2. Then, compare every word with the list of words (values) available in the parts_of_speech dictionary\n",
    "    2.1. If the word is present as a value in that dictionary, check what its pos(key) is\n",
    "    2.2. If the key is a noun, then add the word to your noun list\n",
    "    2.3. If the key is a pronounc, then add the word to your pronoun list\n",
    "    2.4. If the key is a verb, then add the word to your verb list\n",
    "    2.5. If the key is an adverb, then add the word to your advverb list\n",
    "    2.6. If the key is a determiner, then add the word to your determiner list\n",
    "3. Once all the words have been checked, print all the different lists (noun, pronoun, verb, adverb, adjective, determiner) list separately.\n",
    "4. Avoid duplicates in your list\n",
    "\n",
    "\n",
    "MORE CHALLENGING REQUIREMENTS:\n",
    "1. Extend the above program by creating a sentence by picking random elements from all your different lists (noun, pronoun, verb, adverb, adjective, determiner)\n",
    "2. Your sentence should follow this template: Determiner + Adjective + Noun + Verb + Adverb. \n",
    "\n",
    "For example - A (Determiner) married(Adjective) man(Noun) danced(Verb) sadly(Adverb). \n",
    "In your program, you will only print \"A married man danced sadly\"\n"
   ]
  },
  {
   "cell_type": "code",
   "execution_count": 1,
   "metadata": {},
   "outputs": [
    {
     "name": "stdout",
     "output_type": "stream",
     "text": [
      "\n",
      "('adverbs', defaultdict(<function <lambda> at 0x0000029B4AFE9BC0>, {'once': 1, 'happily': 2, 'suddenly': 2, 'loudly': 1, 'instead': 1, 'meanwhile': 1, 'accidentally': 1, 'quietly': 1, 'how': 2, 'softly': 1, 'actually': 1}))\n",
      "('determiners', defaultdict(<function <lambda> at 0x0000029B4AFE9BC0>, {'a': 27, 'the': 50}))\n",
      "('nouns', defaultdict(<function <lambda> at 0x0000029B4AFE9BC0>, {'time': 2, 'dog': 1, 'tree': 2, 'city': 2, 'brown': 1, 'fox': 1, 'car': 1, 'jumping': 1, 'cows': 1, 'breeze': 1, 'forest': 1, 'apple': 1, 'cat': 1, 'butterfly': 1, 'book': 1, 'river': 1, 'penguin': 1, 'poems': 1, 'cars': 1, 'clouds': 1, 'squirrel': 1, 'house': 1, 'ice': 1, 'cream': 1, 'cones': 1, 'chocolate': 1, 'bars': 1, 'mountains': 1, 'group': 1, 'turtles': 1, 'karate': 1, 'moves': 1, 'snow': 1, 'back': 1, 'brave': 1, 'giraffe': 1, 'rabbits': 1, 'elephants': 1, 'rooftop': 1, 'magician': 1, 'moon': 1, 'disappear': 1, 'pizza': 1, 'wise': 1, 'owl': 1, 'fence': 1, 'parade': 1, 'unicorns': 1, 'kangaroo': 1, 'field': 1, 'sunflowers': 1, 'sky': 2, 'cloud': 1, 'sunset': 1, 'pink': 1, 'colors': 1, 'sea': 1, 'chess': 1, 'crab': 1, 'octopus': 1, 'guitar': 1, 'monkey': 1, 'watermelon': 1, 'fruit': 1, 'stand': 1, 'tiger': 1, 'library': 1, 'turtle': 1, 'cookbook': 1, 'pancakes': 1, 'stars': 1, 'robot': 1, 'cupcakes': 1, 'bakery': 1, 'contest': 1, 'sloth': 1, 'race': 1, 'speedy': 1, 'cheetah': 1, 'meadow': 1, 'talent': 1, 'show': 1, 'winner': 1, 'lamb': 1, 'rocks': 1, 'flamingo': 1, 'leg': 1, 'parrot': 1, 'rock': 1, 'roll': 1, 'song': 1, 'top': 1, 'coconut': 1, 'banana': 1, 'pillow': 1, 'marshmallows': 1, 'village': 1, 'chickens': 1, 'debate': 1, 'sun': 1, 'drops': 1, 'panda': 1, 'case': 1, 'bamboo': 1, 'fedora': 1, 'crocodile': 1, 'cup': 1, 'tea': 1, 'zebra': 2}))\n",
      "('adjectives', defaultdict(<function <lambda> at 0x0000029B4AFE9BC0>, {'lazy': 2, 'bright': 2, 'blue': 1, 'quick': 1, 'old': 1, 'rusty': 1, 'next': 1, 'cold': 1, 'giant': 2, 'sleepy': 2, 'curious': 1, 'purple': 1, 'tiny': 1, 'distant': 1, 'ninja': 1, 'bus': 1, 'full': 1, 'tired': 1, 'rainbow-colored': 1, 'nearby': 2, 'energetic': 1, 'happy': 1, 'yellow': 1, 'fish': 1, 'mischievous': 1, 'studious': 1, 'same': 1, 'annual': 1, 'sheep': 1, 'joyful': 1, 'gigantic': 1, 'serious': 1, 'lemon': 1, 'detective': 1, 'stylish': 1, 'polite': 1, 'nervous': 1, 'upcoming': 1}))\n",
      "('verbs', defaultdict(<function <lambda> at 0x0000029B4AFE9BC0>, {'sat': 2, 'dreaming': 2, 'swimming': 1, 'danced': 2, 'parked': 1, 'blew': 1, 'talking': 1, 'began': 1, 'sing': 1, 'tried': 2, 'chase': 1, 'ended': 1, 'reading': 2, 'wrote': 1, 'flying': 1, 'built': 1, 'practiced': 1, 'drove': 1, 'singing': 1, 'dancing': 1, 'make': 2, 'turned': 1, 'watching': 1, 'fly': 1, 'bounced': 1, 'blooming': 1, 'painted': 1, 'played': 2, 'stole': 1, 'offered': 2, 'smiling': 1, 'was': 5, 'learning': 1, 'bake': 1, 'yawned': 1, 'rolled': 1, 'held': 1, 'juggle': 1, 'sang': 1, 'fell': 1, 'landed': 1, 'made': 2, 'were': 1, 'having': 1, 'investigated': 1, 'stolen': 1, 'wearing': 1, 'worried': 1}))\n",
      "('pronouns', defaultdict(<function <lambda> at 0x0000029B4AFE9BC0>, {'their': 1, 'it': 2, 'who': 2}))\n",
      "('unknown', defaultdict(<function <lambda> at 0x0000029B4AFE9BC0>, {'upon': 1, 'on': 5, 'while': 4, 'about': 5, 'in': 7, 'around': 1, 'to': 8, 'through': 1, 'and': 9, 'but': 2, 'up': 1, 'across': 1, 'out': 2, 'of': 12, 'into': 1, 'by': 1, 'over': 3, 'with': 3, 'under': 1, 'from': 3, 'at': 2, 'for': 1, 'could': 1, 'three': 1, 'one': 1, \"'n'\": 1, 'whether': 1, 'marat': 1}))\n",
      "\n",
      "A upcoming banana sat suddenly.\n"
     ]
    }
   ],
   "source": [
    "from collections import defaultdict\n",
    "from random import choice\n",
    "\n",
    "\n",
    "parts_of_speech = {\n",
    "    \"adverbs\": ['seldom', 'nicely', 'rudely', 'loudly', 'differently', 'quickly', 'Meanwhile', 'actually', 'instead', 'happily', 'quietly', 'Suddenly', 'rarely', 'generally', 'loudly', 'finally', 'accidentally', 'now', 'Once', 'softly', 'how'],\n",
    "    \"determiners\": ['the', 'The', 'a', 'an', 'A', 'An', 'this', 'This', 'that', 'That', 'these', 'These'],\n",
    "    \"nouns\": ['turtle', 'fox', 'horse', 'kangaroo', 'Samantha', 'Bob', 'Manhattan', 'birds', 'chess', 'rabbits', 'sea', 'stand', 'lamb', 'watermelon', 'mountains', 'ants', 'crab', 'song', 'elephant', 'mouse', 'apple', 'house', 'winner', 'tea', 'blew', 'karate', 'rooftop', 'map', 'penguin', 'crocodile', 'letter', 'car', 'rocks', 'snow', 'field', 'village', 'kangaroo', 'zebra', 'turtles', 'chickens', 'cars', 'Back', 'squirrel', 'clever', 'tiger', 'cupcakes', 'contest', 'mountain', 'fedora', 'race', 'flamingo', 'giraffe', 'leg', 'cows', 'cup', 'orchestra', 'tree', 'pancakes', 'bees', 'crumbs', 'dog', 'magician', 'parade', 'unicorns', 'talent', 'wise', 'cheetah', 'tomorrow', 'fox', 'cookbook', 'goat', 'fruit', 'pillow', 'everyone', 'poems', 'stars', 'skyscraper', 'octopus', 'sloth', 'colors', 'meadow', 'world', 'library', 'panda', 'marshmallows', 'elephants', 'top', 'banana', 'pizza', 'monkey', 'cheese', 'moon', 'sunset', 'lion', 'hippo', 'bakery', 'brighter', 'group', 'chocolate', 'show', 'pink', 'moves', 'brave', 'forest', 'sleepy', 'eagle', 'balloon', 'time', 'owl', 'butterfly', 'book', 'rock', 'clouds', 'coconut', 'bamboo', 'ice', 'shade', 'marathon', 'breeze', 'sun', 'speedy', 'sky', 'drops', 'debate', 'brown', 'guitar', 'cream', 'bars', 'parrot', 'Nearby', 'roll', 'president', 'river', 'city', 'cat', 'fence', 'robot', 'jumping', 'cones', 'sunflowers', 'case', 'disappear', 'cloud'],\n",
    "    \"adjectives\": ['cold', 'energetic', 'upcoming', 'rainbow-colored', 'curious', 'same', 'joyful', 'sleepy', 'lemon', 'fish', 'mischievous', 'detective', 'stylish', 'tired', 'nervous', 'adventurous', 'yellow', 'gigantic', 'giant', 'polite', 'annual', 'purple', 'ninja', 'tiny', 'lazy', 'fluffy', 'tallest', 'thoughtful', 'studious', 'sheep', 'distant', 'little', 'quick', 'full', 'golden', 'rusty', 'cool', 'next', 'cheese', 'bus', 'blue', 'happy', 'serious', 'nearby', 'bright', 'legendary', 'old', 'hot', 'new', 'fresh', 'stale', 'fast', 'slow', 'tall', 'short', 'bright', 'dark'],\n",
    "    \"verbs\": ['flew', 'danced', 'ended', 'painted', 'deliver', 'please', 'began', 'talking', 'parked', 'holding', 'held', 'made', 'dreaming', 'stolen', 'floated', 'shine', 'climbed', 'sing', 'using', 'drew', 'offered', 'investigated', 'buzzing', 'look', 'practiced', 'learning', 'blew', 'smiling', 'wearing', 'singing', 'rolled', 'chase', 'tried', 'make', 'bake', 'asking', 'dancing', 'was', 'listening', 'fell', 'built', 'stole', 'studied', 'bounced', 'sat', 'blooming', 'juggle', 'stretched', 'turned', 'wrote', 'sang', 'worried', 'played', 'swimming', 'landed', 'jumped', 'drove', 'fly', 'reading', 'flying', 'were', 'having', 'yawned', 'watching', 'cried', 'roared'],\n",
    "    \"pronouns\": ['their', 'who', 'it', 'we', 'you', 'us', 'he', 'she', 'they', 'them']\n",
    "}\n",
    "paragraph = \"Once upon a time, the lazy dog sat on a bright blue tree while dreaming about swimming in the city. The quick brown fox danced happily around the old rusty car parked next to the jumping cows. Suddenly, a cold breeze blew through the forest, and a giant talking apple began to sing loudly. The sleepy cat tried to chase a butterfly but ended up reading a book instead. Across the river, the curious penguin wrote poems about flying cars and purple clouds. The lazy squirrel built a tiny house out of ice cream cones and chocolate bars. Meanwhile, in the distant mountains, a group of ninja turtles practiced their karate moves in the snow. Back in the city, the brave giraffe drove a bus full of singing rabbits and dancing elephants. On the rooftop, a tired magician tried to make the moon disappear but accidentally turned it into a giant pizza. The wise owl sat quietly on the fence, watching a parade of rainbow-colored unicorns fly by. Nearby, the energetic kangaroo bounced happily over a field of blooming sunflowers. In the sky, a happy cloud painted the sunset with bright pink and yellow colors. Under the sea, the fish played chess with the crab while the octopus played the guitar. The mischievous monkey stole a watermelon from the fruit stand and offered it to the smiling tiger. At the library, the studious turtle was reading a cookbook about how to make pancakes out of stars. At the same time, a robot was learning how to bake cupcakes for the annual bakery contest. The sleepy sloth yawned and rolled over, dreaming of a race with the speedy cheetah. Over in the meadow, the sheep held a talent show, and the winner was a lamb who could juggle three rocks. The joyful flamingo danced on one leg while the parrot sang a rock 'n' roll song from the top of the coconut tree. Suddenly, a gigantic banana fell from the sky and landed softly on a pillow made of marshmallows. In the nearby village, the chickens were having a serious debate about whether the sun was actually made of lemon drops. The detective panda investigated a case of stolen bamboo while wearing a stylish fedora. The polite crocodile offered a cup of tea to the nervous zebra who was worried about the upcoming zebra marat.\"\n",
    "\n",
    "reversed_dict = {}\n",
    "for typ, ls in parts_of_speech.items():\n",
    "    for word in ls:\n",
    "        reversed_dict[word.lower()] = typ\n",
    "\n",
    "factory = lambda: 0\n",
    "result = {\n",
    "    'adverbs': defaultdict(factory),\n",
    "    'determiners': defaultdict(factory),\n",
    "    'nouns': defaultdict(factory),\n",
    "    'adjectives': defaultdict(factory),\n",
    "    'verbs': defaultdict(factory),\n",
    "    'pronouns': defaultdict(factory),\n",
    "    'unknown': defaultdict(factory),\n",
    "}\n",
    "\n",
    "for word in (word.strip(',.').lower() for word in paragraph.split()):\n",
    "    result[reversed_dict.get(word, 'unknown')][word] += 1\n",
    "\n",
    "print()\n",
    "print(*result.items(), sep='\\n')\n",
    "\n",
    "print()\n",
    "print(f\"{choice(list(result['determiners'].keys())).capitalize()} {choice(list(result['adjectives'].keys()))} {choice(list(result['nouns'].keys()))} {choice(list(result['verbs'].keys()))} {choice(list(result['adverbs'].keys()))}.\")\n"
   ]
  }
 ],
 "metadata": {
  "kernelspec": {
   "display_name": "scse-py311",
   "language": "python",
   "name": "python3"
  },
  "language_info": {
   "codemirror_mode": {
    "name": "ipython",
    "version": 3
   },
   "file_extension": ".py",
   "mimetype": "text/x-python",
   "name": "python",
   "nbconvert_exporter": "python",
   "pygments_lexer": "ipython3",
   "version": "3.11.9"
  }
 },
 "nbformat": 4,
 "nbformat_minor": 2
}
