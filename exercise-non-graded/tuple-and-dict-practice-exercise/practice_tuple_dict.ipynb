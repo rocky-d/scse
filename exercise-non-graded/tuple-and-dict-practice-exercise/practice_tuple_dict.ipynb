{
 "cells": [
  {
   "cell_type": "markdown",
   "metadata": {},
   "source": [
    "You are given parts of speech and a short text. Using these, program the following:\n",
    "\n",
    "REQUIREMENTS:\n",
    "1. First, break the big paragraph into list of words\n",
    "2. Then, compare every word with the list of words (values) available in the parts_of_speech dictionary\n",
    "    2.1. If the word is present as a value in that dictionary, check what its pos(key) is\n",
    "    2.2. If the key is a noun, then add the word to your noun list\n",
    "    2.3. If the key is a pronounc, then add the word to your pronoun list\n",
    "    2.4. If the key is a verb, then add the word to your verb list\n",
    "    2.5. If the key is an adverb, then add the word to your advverb list\n",
    "    2.6. If the key is a determiner, then add the word to your determiner list\n",
    "3. Once all the words have been checked, print all the different lists (noun, pronoun, verb, adverb, adjective, determiner) list separately.\n",
    "4. Avoid duplicates in your list\n",
    "\n",
    "\n",
    "MORE CHALLENGING REQUIREMENTS:\n",
    "1. Extend the above program by creating a sentence by picking random elements from all your different lists (noun, pronoun, verb, adverb, adjective, determiner)\n",
    "2. Your sentence should follow this template: Determiner + Adjective + Noun + Verb + Adverb. \n",
    "\n",
    "For example - A (Determiner) married(Adjective) man(Noun) danced(Verb) sadly(Adverb). \n",
    "In your program, you will only print \"A married man danced sadly\"\n"
   ]
  },
  {
   "cell_type": "code",
   "execution_count": 1,
   "metadata": {},
   "outputs": [
    {
     "name": "stdout",
     "output_type": "stream",
     "text": [
      "\n",
      "adverbs = ['happily', 'loudly', 'instead', 'accidentally', 'quietly', 'happily', 'how', 'how', 'softly', 'actually']\n",
      "determiners = ['a', 'the', 'a', 'the', 'the', 'the', 'the', 'a', 'the', 'a', 'the', 'a', 'a', 'the', 'the', 'the', 'a', 'the', 'a', 'the', 'the', 'the', 'a', 'the', 'a', 'the', 'a', 'the', 'the', 'a', 'the', 'a', 'the', 'a', 'the', 'the', 'the', 'the', 'the', 'the', 'the', 'a', 'the', 'the', 'the', 'the', 'a', 'the', 'a', 'the', 'the', 'a', 'the', 'the', 'the', 'a', 'the', 'a', 'the', 'the', 'a', 'the', 'the', 'a', 'the', 'a', 'the', 'the', 'a', 'the', 'the', 'a', 'a', 'the', 'a', 'the', 'the']\n",
      "nouns = ['time', 'dog', 'tree', 'city', 'brown', 'fox', 'car', 'jumping', 'cows', 'breeze', 'forest', 'apple', 'cat', 'butterfly', 'book', 'river', 'penguin', 'poems', 'cars', 'clouds', 'squirrel', 'house', 'ice', 'cream', 'cones', 'chocolate', 'bars', 'mountains', 'group', 'turtles', 'karate', 'moves', 'snow', 'city', 'brave', 'giraffe', 'rabbits', 'elephants', 'rooftop', 'magician', 'moon', 'disappear', 'pizza', 'wise', 'owl', 'fence', 'parade', 'unicorns', 'kangaroo', 'field', 'sunflowers', 'sky', 'cloud', 'sunset', 'pink', 'colors', 'sea', 'chess', 'crab', 'octopus', 'guitar', 'monkey', 'watermelon', 'fruit', 'stand', 'tiger', 'library', 'turtle', 'cookbook', 'pancakes', 'stars', 'time', 'robot', 'cupcakes', 'bakery', 'contest', 'sloth', 'race', 'speedy', 'cheetah', 'meadow', 'talent', 'show', 'winner', 'lamb', 'rocks', 'flamingo', 'leg', 'parrot', 'rock', 'roll', 'song', 'top', 'coconut', 'tree', 'banana', 'sky', 'pillow', 'marshmallows', 'village', 'chickens', 'debate', 'sun', 'drops', 'panda', 'case', 'bamboo', 'fedora', 'crocodile', 'cup', 'tea', 'zebra', 'zebra']\n",
      "adjectives = ['lazy', 'bright', 'blue', 'quick', 'old', 'rusty', 'next', 'cold', 'giant', 'sleepy', 'curious', 'purple', 'lazy', 'tiny', 'distant', 'ninja', 'bus', 'full', 'tired', 'giant', 'rainbow-colored', 'nearby', 'energetic', 'happy', 'bright', 'yellow', 'fish', 'mischievous', 'studious', 'same', 'annual', 'sleepy', 'sheep', 'joyful', 'gigantic', 'nearby', 'serious', 'lemon', 'detective', 'stylish', 'polite', 'nervous', 'upcoming']\n",
      "verbs = ['sat', 'dreaming', 'swimming', 'danced', 'parked', 'blew', 'talking', 'began', 'sing', 'tried', 'chase', 'ended', 'reading', 'wrote', 'flying', 'built', 'practiced', 'drove', 'singing', 'dancing', 'tried', 'make', 'turned', 'sat', 'watching', 'fly', 'bounced', 'blooming', 'painted', 'played', 'played', 'stole', 'offered', 'smiling', 'was', 'reading', 'make', 'was', 'learning', 'bake', 'yawned', 'rolled', 'dreaming', 'held', 'was', 'juggle', 'danced', 'sang', 'fell', 'landed', 'made', 'were', 'having', 'was', 'made', 'investigated', 'stolen', 'wearing', 'offered', 'was', 'worried']\n",
      "pronouns = ['their', 'it', 'it', 'who', 'who']\n"
     ]
    }
   ],
   "source": [
    "parts_of_speech = {\n",
    "    \"adverbs\": ['seldom', 'nicely', 'rudely', 'loudly', 'differently', 'quickly', 'Meanwhile', 'actually', 'instead', 'happily', 'quietly', 'Suddenly', 'rarely', 'generally', 'loudly', 'finally', 'accidentally', 'now', 'Once', 'softly', 'how'],\n",
    "    \"determiners\": ['the', 'The', 'a', 'an', 'A', 'An', 'this', 'This', 'that', 'That', 'these', 'These'],\n",
    "    \"nouns\": ['turtle', 'fox', 'horse', 'kangaroo', 'Samantha', 'Bob', 'Manhattan', 'birds', 'chess', 'rabbits', 'sea', 'stand', 'lamb', 'watermelon', 'mountains', 'ants', 'crab', 'song', 'elephant', 'mouse', 'apple', 'house', 'winner', 'tea', 'blew', 'karate', 'rooftop', 'map', 'penguin', 'crocodile', 'letter', 'car', 'rocks', 'snow', 'field', 'village', 'kangaroo', 'zebra', 'turtles', 'chickens', 'cars', 'Back', 'squirrel', 'clever', 'tiger', 'cupcakes', 'contest', 'mountain', 'fedora', 'race', 'flamingo', 'giraffe', 'leg', 'cows', 'cup', 'orchestra', 'tree', 'pancakes', 'bees', 'crumbs', 'dog', 'magician', 'parade', 'unicorns', 'talent', 'wise', 'cheetah', 'tomorrow', 'fox', 'cookbook', 'goat', 'fruit', 'pillow', 'everyone', 'poems', 'stars', 'skyscraper', 'octopus', 'sloth', 'colors', 'meadow', 'world', 'library', 'panda', 'marshmallows', 'elephants', 'top', 'banana', 'pizza', 'monkey', 'cheese', 'moon', 'sunset', 'lion', 'hippo', 'bakery', 'brighter', 'group', 'chocolate', 'show', 'pink', 'moves', 'brave', 'forest', 'sleepy', 'eagle', 'balloon', 'time', 'owl', 'butterfly', 'book', 'rock', 'clouds', 'coconut', 'bamboo', 'ice', 'shade', 'marathon', 'breeze', 'sun', 'speedy', 'sky', 'drops', 'debate', 'brown', 'guitar', 'cream', 'bars', 'parrot', 'Nearby', 'roll', 'president', 'river', 'city', 'cat', 'fence', 'robot', 'jumping', 'cones', 'sunflowers', 'case', 'disappear', 'cloud'],\n",
    "    \"adjectives\": ['cold', 'energetic', 'upcoming', 'rainbow-colored', 'curious', 'same', 'joyful', 'sleepy', 'lemon', 'fish', 'mischievous', 'detective', 'stylish', 'tired', 'nervous', 'adventurous', 'yellow', 'gigantic', 'giant', 'polite', 'annual', 'purple', 'ninja', 'tiny', 'lazy', 'fluffy', 'tallest', 'thoughtful', 'studious', 'sheep', 'distant', 'little', 'quick', 'full', 'golden', 'rusty', 'cool', 'next', 'cheese', 'bus', 'blue', 'happy', 'serious', 'nearby', 'bright', 'legendary', 'old', 'hot', 'new', 'fresh', 'stale', 'fast', 'slow', 'tall', 'short', 'bright', 'dark'],\n",
    "    \"verbs\": ['flew', 'danced', 'ended', 'painted', 'deliver', 'please', 'began', 'talking', 'parked', 'holding', 'held', 'made', 'dreaming', 'stolen', 'floated', 'shine', 'climbed', 'sing', 'using', 'drew', 'offered', 'investigated', 'buzzing', 'look', 'practiced', 'learning', 'blew', 'smiling', 'wearing', 'singing', 'rolled', 'chase', 'tried', 'make', 'bake', 'asking', 'dancing', 'was', 'listening', 'fell', 'built', 'stole', 'studied', 'bounced', 'sat', 'blooming', 'juggle', 'stretched', 'turned', 'wrote', 'sang', 'worried', 'played', 'swimming', 'landed', 'jumped', 'drove', 'fly', 'reading', 'flying', 'were', 'having', 'yawned', 'watching', 'cried', 'roared'],\n",
    "    \"pronouns\": ['their', 'who', 'it', 'we', 'you', 'us', 'he', 'she', 'they', 'them']\n",
    "}\n",
    "paragraph = \"Once upon a time, the lazy dog sat on a bright blue tree while dreaming about swimming in the city. The quick brown fox danced happily around the old rusty car parked next to the jumping cows. Suddenly, a cold breeze blew through the forest, and a giant talking apple began to sing loudly. The sleepy cat tried to chase a butterfly but ended up reading a book instead. Across the river, the curious penguin wrote poems about flying cars and purple clouds. The lazy squirrel built a tiny house out of ice cream cones and chocolate bars. Meanwhile, in the distant mountains, a group of ninja turtles practiced their karate moves in the snow. Back in the city, the brave giraffe drove a bus full of singing rabbits and dancing elephants. On the rooftop, a tired magician tried to make the moon disappear but accidentally turned it into a giant pizza. The wise owl sat quietly on the fence, watching a parade of rainbow-colored unicorns fly by. Nearby, the energetic kangaroo bounced happily over a field of blooming sunflowers. In the sky, a happy cloud painted the sunset with bright pink and yellow colors. Under the sea, the fish played chess with the crab while the octopus played the guitar. The mischievous monkey stole a watermelon from the fruit stand and offered it to the smiling tiger. At the library, the studious turtle was reading a cookbook about how to make pancakes out of stars. At the same time, a robot was learning how to bake cupcakes for the annual bakery contest. The sleepy sloth yawned and rolled over, dreaming of a race with the speedy cheetah. Over in the meadow, the sheep held a talent show, and the winner was a lamb who could juggle three rocks. The joyful flamingo danced on one leg while the parrot sang a rock 'n' roll song from the top of the coconut tree. Suddenly, a gigantic banana fell from the sky and landed softly on a pillow made of marshmallows. In the nearby village, the chickens were having a serious debate about whether the sun was actually made of lemon drops. The detective panda investigated a case of stolen bamboo while wearing a stylish fedora. The polite crocodile offered a cup of tea to the nervous zebra who was worried about the upcoming zebra marat.\"\n",
    "\n",
    "reversed_dict = {}\n",
    "for key, val in parts_of_speech.items():\n",
    "    for word in val:\n",
    "        reversed_dict[word] = key\n",
    "\n",
    "adverbs, determiners, nouns, adjectives, verbs, pronouns = [], [], [], [], [], []\n",
    "\n",
    "for word in (word.strip(',.').lower() for word in paragraph.split()):\n",
    "    if word in reversed_dict.keys():\n",
    "        if 'adverbs' == reversed_dict[word]:\n",
    "            ls = adverbs\n",
    "        elif 'determiners' == reversed_dict[word]:\n",
    "            ls = determiners\n",
    "        elif 'nouns' == reversed_dict[word]:\n",
    "            ls = nouns\n",
    "        elif 'adjectives' == reversed_dict[word]:\n",
    "            ls = adjectives\n",
    "        elif 'verbs' == reversed_dict[word]:\n",
    "            ls = verbs\n",
    "        elif 'pronouns' == reversed_dict[word]:\n",
    "            ls = pronouns\n",
    "        ls.append(word)\n",
    "    else:\n",
    "        pass\n",
    "        # print(f\"Unkown word '{word}'!\")\n",
    "        # raise Exception(f\"Unkown word '{word}'!\")\n",
    "\n",
    "print()\n",
    "print(f\"{adverbs = }\")\n",
    "print(f\"{determiners = }\")\n",
    "print(f\"{nouns = }\")\n",
    "print(f\"{adjectives = }\")\n",
    "print(f\"{verbs = }\")\n",
    "print(f\"{pronouns = }\")\n"
   ]
  }
 ],
 "metadata": {
  "kernelspec": {
   "display_name": "scse-py311",
   "language": "python",
   "name": "python3"
  },
  "language_info": {
   "codemirror_mode": {
    "name": "ipython",
    "version": 3
   },
   "file_extension": ".py",
   "mimetype": "text/x-python",
   "name": "python",
   "nbconvert_exporter": "python",
   "pygments_lexer": "ipython3",
   "version": "3.11.9"
  }
 },
 "nbformat": 4,
 "nbformat_minor": 2
}
