{
 "cells": [
  {
   "cell_type": "markdown",
   "metadata": {},
   "source": [
    "1. Ask user to enter a string and check that it is made up only alphabets:"
   ]
  },
  {
   "cell_type": "code",
   "execution_count": 1,
   "metadata": {},
   "outputs": [
    {
     "name": "stdout",
     "output_type": "stream",
     "text": [
      "\"aaaryg\" is only alphabets.\n"
     ]
    }
   ],
   "source": [
    "s = input('Please give a string >> ')\n",
    "if s.isalpha():\n",
    "    print(f'\"{s}\" is only alphabets.')\n",
    "else:\n",
    "    print(f'\"{s}\" is not only alphabets.')\n"
   ]
  },
  {
   "cell_type": "markdown",
   "metadata": {},
   "source": [
    "2. Now, make sure that the string is made up of both alphabets and numbers:\n",
    "\n",
    "TRY using isalnum() function and then entering only alhpabets in the string and see what happens."
   ]
  },
  {
   "cell_type": "code",
   "execution_count": 2,
   "metadata": {},
   "outputs": [
    {
     "name": "stdout",
     "output_type": "stream",
     "text": [
      "\"ahdyf83kja9\" is only alphabets and numbers.\n"
     ]
    }
   ],
   "source": [
    "s = input('Please give a string >> ')\n",
    "if s.isalnum():\n",
    "    print(f'\"{s}\" is only alphabets and numbers.')\n",
    "else:\n",
    "    print(f'\"{s}\" is not only alphabets and numbers.')\n"
   ]
  },
  {
   "cell_type": "markdown",
   "metadata": {},
   "source": [
    "3. Now, make sure that the string is made up of both alphabets and at least one number:\n"
   ]
  },
  {
   "cell_type": "code",
   "execution_count": 3,
   "metadata": {},
   "outputs": [
    {
     "name": "stdout",
     "output_type": "stream",
     "text": [
      "\"qqq000111233xx\" is alphabets and at least one numbers.\n"
     ]
    }
   ],
   "source": [
    "s = input('Please give a string >> ')\n",
    "if s.isalnum() and any(char.isdigit() for char in s):\n",
    "    print(f'\"{s}\" is alphabets and at least one numbers.')\n",
    "else:\n",
    "    print(f'\"{s}\" is not alphabets and at least one numbers.')\n"
   ]
  },
  {
   "cell_type": "markdown",
   "metadata": {},
   "source": [
    "4. Now, make sure that the string is made up of both alphabets, at least one number, and at least one special character:"
   ]
  },
  {
   "cell_type": "code",
   "execution_count": 4,
   "metadata": {},
   "outputs": [
    {
     "name": "stdout",
     "output_type": "stream",
     "text": [
      "\"rockyisthe1st!!!!\" is alphabets, at least one numbers, and at least one special character.\n"
     ]
    }
   ],
   "source": [
    "s = input('Please give a string >> ')\n",
    "if any(char.isdigit() for char in s) and any(not char.isalnum() for char in s):\n",
    "    print(f'\"{s}\" is alphabets, at least one numbers, and at least one special character.')\n",
    "else:\n",
    "    print(f'\"{s}\" is not alphabets, at least one numbers, and at least one special character.')\n"
   ]
  },
  {
   "cell_type": "markdown",
   "metadata": {},
   "source": [
    "5. Now, modify the above code so that if the user enters an invalid string, the program should ask the user to enter another string again, and keep asking until a valid string has been entered."
   ]
  },
  {
   "cell_type": "code",
   "execution_count": 5,
   "metadata": {},
   "outputs": [
    {
     "name": "stdout",
     "output_type": "stream",
     "text": [
      "\"aaa\" is not alphabets, at least one numbers, and at least one special character.\n",
      "\"aaa111222\" is not alphabets, at least one numbers, and at least one special character.\n",
      "\"aa111222###\" is alphabets, at least one numbers, and at least one special character.\n"
     ]
    }
   ],
   "source": [
    "while True:\n",
    "    s = input('Please give a string >> ')\n",
    "    if any(char.isdigit() for char in s) and any(not char.isalnum() for char in s):\n",
    "        print(f'\"{s}\" is alphabets, at least one numbers, and at least one special character.')\n",
    "        break\n",
    "    else:\n",
    "        print(f'\"{s}\" is not alphabets, at least one numbers, and at least one special character.')\n"
   ]
  }
 ],
 "metadata": {
  "kernelspec": {
   "display_name": "Python 3",
   "language": "python",
   "name": "python3"
  },
  "language_info": {
   "codemirror_mode": {
    "name": "ipython",
    "version": 3
   },
   "file_extension": ".py",
   "mimetype": "text/x-python",
   "name": "python",
   "nbconvert_exporter": "python",
   "pygments_lexer": "ipython3",
   "version": "3.11.9"
  }
 },
 "nbformat": 4,
 "nbformat_minor": 2
}
