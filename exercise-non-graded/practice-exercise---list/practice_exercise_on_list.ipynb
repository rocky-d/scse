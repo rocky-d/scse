{
 "cells": [
  {
   "cell_type": "code",
   "execution_count": 1,
   "metadata": {},
   "outputs": [
    {
     "name": "stdout",
     "output_type": "stream",
     "text": [
      "[('A', 22), ('B', 56), ('C', 10), ('D', 31)]\n",
      "[(22, 'A'), (56, 'B'), (10, 'C'), (31, 'D')]\n",
      "[(56, 'B'), (31, 'D'), (22, 'A'), (10, 'C')]\n",
      "[('B', 56), ('D', 31), ('A', 22), ('C', 10)]\n",
      "B - 56\n",
      "D - 31\n"
     ]
    }
   ],
   "source": [
    "# The following will be helpful in you practice exercise\n",
    "\n",
    "\n",
    "string_list = ['A', 'B', 'C', 'D']\n",
    "num_list = [22, 56, 10, 31]\n",
    "\n",
    "paired_list = list(zip(string_list, num_list))\n",
    "print(paired_list) # OUTPUT: [('A', 22), ('B', 56), ('C', 10), ('D', 31)]\n",
    "\n",
    "num_string_list = [(num, str) for str, num in paired_list]\n",
    "print(num_string_list) # OUTPUT: [(22, 'A'), (56, 'B'), (10, 'C'), (31, 'D')]\n",
    "\n",
    "sorted_num_string_list = sorted(num_string_list, reverse = True)\n",
    "print(sorted_num_string_list) # OUTPUT: [(56, 'B'), (31, 'D'), (22, 'A'), (10, 'C')]\n",
    "\n",
    "string_num_list = [(str, num) for num, str in sorted_num_string_list]\n",
    "print(string_num_list) # OUTPUT: [('B', 56), ('D', 31), ('A', 22), ('C', 10)]\n",
    "\n",
    "top_two_list = string_num_list[:2]\n",
    "for str, num in top_two_list:\n",
    "    print(f'{str} - {num}') # OUTPUT: B - 56, D - 31"
   ]
  },
  {
   "cell_type": "markdown",
   "metadata": {},
   "source": [
    "For the practice exercise, you will write a small program that will accept a list of student names and grades, and allow you to view them and perform basic operations on them.\n",
    "\n",
    "REQUIREMENTS:\n",
    "1. Accept a list of 10 names from the user. Each name must be separated by a comma \n",
    "2. Similarly, accept a list of 10 grades (0 - 5). Each grade must be separated by a comma\n",
    "    2.1. Grades must be stored as integers after accepting them as inputs. (HINT: Use typecasting)\n",
    "3. Store in a variable both the names and the grades together. (HINT: Use zip())\n",
    "4. Display to the user the different options that they can choose from to interact with the program\n",
    "    4.1. First option is to view the student with the highest grade.\n",
    "    4.2. Second option is to view top three students with the highest grade (HINT: Use sorted())\n",
    "    4.3. Third option is to view the students with the lowest grade\n",
    "    4.4. Fourth option is to get the total number of students that failed\n",
    "    4.5. Quit the program\n",
    "5. Use only the methods you have learned so far, including list methods and list comprehension. "
   ]
  },
  {
   "cell_type": "code",
   "execution_count": 2,
   "metadata": {},
   "outputs": [
    {
     "name": "stdout",
     "output_type": "stream",
     "text": [
      "The top three students with the highest grade:\n",
      "['f', 'h', 'j']\n"
     ]
    }
   ],
   "source": [
    "# Write your program here\n",
    "names = input().split(',')  # a,b,c,d,e,f,g,h,i,j\n",
    "grades = list(map(int, input().split(',')))  # 1,2,0,0,1,5,3,5,4,5\n",
    "# grades = [int(grade) for grade in input().split(',')]\n",
    "\n",
    "names_grades = list(zip(names, grades))\n",
    "\n",
    "option = int(input())\n",
    "match option:\n",
    "    case 1:\n",
    "        maxm_grade = max(names_grades, key=lambda item: item[1])[1]\n",
    "        print(f\"The students with the highest grade {maxm_grade}:\")\n",
    "        print([name for name, grade in names_grades if maxm_grade == grade])\n",
    "    case 2:\n",
    "        print('The top three students with the highest grade:')\n",
    "        print([name for name, _ in sorted(names_grades, key=lambda item: item[1], reverse=True)[:3]])\n",
    "    case 3:\n",
    "        minm_grade = min(names_grades, key=lambda item: item[1])[1]\n",
    "        print(f\"The students with the lowest grade {minm_grade}:\")\n",
    "        print([name for name, grade in names_grades if minm_grade == grade])\n",
    "    case 4:\n",
    "        print('The total number of students that failed:')\n",
    "        print(len([name for name, grade in names_grades if grade <= 1]))\n",
    "    case 5:\n",
    "        print('Goodbye!')\n",
    "        exit()\n",
    "    case _:\n",
    "        raise Exception(f\"Invalid option '{option}'!\")\n"
   ]
  }
 ],
 "metadata": {
  "kernelspec": {
   "display_name": "Python 3",
   "language": "python",
   "name": "python3"
  },
  "language_info": {
   "codemirror_mode": {
    "name": "ipython",
    "version": 3
   },
   "file_extension": ".py",
   "mimetype": "text/x-python",
   "name": "python",
   "nbconvert_exporter": "python",
   "pygments_lexer": "ipython3",
   "version": "3.11.9"
  }
 },
 "nbformat": 4,
 "nbformat_minor": 2
}
