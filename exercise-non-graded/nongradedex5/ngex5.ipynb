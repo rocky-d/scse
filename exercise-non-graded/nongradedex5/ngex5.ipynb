{
 "cells": [
  {
   "cell_type": "markdown",
   "metadata": {},
   "source": [
    "AIM #1: Loading the dataset and printing basic information \n",
    "1. Import the Titanic dataset using pandas\n",
    "2. Create a Dataframe from the dataset\n",
    "3. Print the first 10 rows of the dataset\n",
    "4. Print the last 20 rows of the dataset\n",
    "5. Print dataset's information\n",
    "6. Describe the dataset\n",
    "7. Make sure all the information returned by the different functions are displayed in a single table and not on multiple ines"
   ]
  },
  {
   "cell_type": "code",
   "execution_count": null,
   "metadata": {},
   "outputs": [],
   "source": []
  },
  {
   "cell_type": "markdown",
   "metadata": {},
   "source": [
    "AIM #2: Finding issues (empty, NAs, incorrect value, incorrect format, outliers, etc.) \n",
    "1. Find out how many missing values there are in the dataset\n",
    "2. For the 'Age' column, find the best way to handle the missing values\n",
    "    2.1. Use an appropriate plot to study the nature of the 'Age' column\n",
    "    2.2. Figure out what is the best way to calculate the central tendency of the 'Age' column based on the above plot\n",
    "    2.3. Using the most suitable central tendency measure, fill the missing values in the age column\n",
    "3. Decide what is the best way to handle the missing values in the 'Cabin' columns\n",
    "4. Similarly, decide what is the best way to handle the missing values in the 'Embarked' columns\n",
    "5. Handle the incorrect data under the 'Survived' columns using appropriate measure\n",
    "6. Handle the incorrectly formatted data under the 'Fare' column\n"
   ]
  },
  {
   "cell_type": "code",
   "execution_count": null,
   "metadata": {},
   "outputs": [],
   "source": []
  },
  {
   "cell_type": "code",
   "execution_count": null,
   "metadata": {},
   "outputs": [],
   "source": []
  },
  {
   "cell_type": "markdown",
   "metadata": {},
   "source": [
    "AIM #3: Grouping \n",
    "1. Find out the average fare grouped by Pclass\n",
    "    1.1. Plot the above using a suitable plot\n",
    "2. Find out the average fare grouped by Sex\n",
    "    2.1. Plot the above using a suitable plot"
   ]
  },
  {
   "cell_type": "code",
   "execution_count": null,
   "metadata": {},
   "outputs": [],
   "source": []
  },
  {
   "cell_type": "markdown",
   "metadata": {},
   "source": [
    "AIM #4: Dataset visualization using pandas\n",
    "\n",
    "1. Plot the distribution of 'Age' using a suitable plot\n",
    "2. Plot the distribution of 'Fare' using a suitable plot\n",
    "3. Plot the distribution of 'Pclass' using a suitable plot\n",
    "4. Plot the distribution of 'Survived' using a suitable plot\n",
    "5. Plot the distribution of 'Embarked' using a suitable plot\n",
    "6. Plot the distribution of 'Fare' grouped by 'Survived'\n",
    "7. Plot the distribution of 'Fare' grouped by 'Pclass'\n",
    "8. Plot the distribution of 'Age' grouped by 'Survived'\n",
    "9. Plot the distribution of 'Age' grouped by 'PClass'\n",
    "10. Combine the 'SibSp' and 'Parch' and plot its distribution grouped by 'Survived'\n",
    "11. Combine the 'SibSp' and 'Parch' and plot its distribution grouped by 'Pclass'\n",
    "12. Plot a distribution between 'Age' and 'Fare' to see if there's any relationship\n",
    "13. Are there any other possibilities to show relationships?"
   ]
  },
  {
   "cell_type": "code",
   "execution_count": null,
   "metadata": {},
   "outputs": [],
   "source": []
  },
  {
   "cell_type": "markdown",
   "metadata": {},
   "source": [
    "AIM #5: Correlation\n",
    "\n",
    "1. Generate a correlation matrix for the entire dataset\n",
    "2. Find correlation between 'Age' and 'Fare'\n",
    "3. What other possible correlations can be found in the dataset?"
   ]
  },
  {
   "cell_type": "code",
   "execution_count": null,
   "metadata": {},
   "outputs": [],
   "source": []
  }
 ],
 "metadata": {
  "kernelspec": {
   "display_name": "Python 3",
   "language": "python",
   "name": "python3"
  },
  "language_info": {
   "codemirror_mode": {
    "name": "ipython",
    "version": 3
   },
   "file_extension": ".py",
   "mimetype": "text/x-python",
   "name": "python",
   "nbconvert_exporter": "python",
   "pygments_lexer": "ipython3",
   "version": "3.11.5"
  }
 },
 "nbformat": 4,
 "nbformat_minor": 2
}
