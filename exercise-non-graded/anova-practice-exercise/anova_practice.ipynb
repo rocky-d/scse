{
 "cells": [
  {
   "cell_type": "markdown",
   "metadata": {},
   "source": [
    "AIM 1: Variance and Covariance\n",
    "\n",
    "1. Load the dataset 'diabetic_data.csv' using pandas\n",
    "2. Calculate variance on the column 'num_med_proc'\n",
    "    2.1. For the same column, also calculate standard deviation\n",
    "    2.2. Do both variance and standard deviation give you the same understanding of the data?\n",
    "3. Calculate covariance between the columns 'num_med_proc' and 'time_in_hospital'\n",
    "    3.1. Calculate correlation between the same two variables\n",
    "    3.2. Do both covariance and correlation give you the same understanding of the data?"
   ]
  },
  {
   "cell_type": "code",
   "execution_count": null,
   "metadata": {},
   "outputs": [],
   "source": []
  },
  {
   "cell_type": "markdown",
   "metadata": {},
   "source": [
    "AIM 2: Handle data with bimodal distribution. \n",
    "\n",
    "1. Create two separate normally distributed data of 100 items. One with mean 2 and the other with -2. Both will have an STD of 1.2\n",
    "    1.1. You can try different values as well, as long as the result is a bimodal distribution\n",
    "2. Combine the two datasets using concatenate() from NumPy library\n",
    "3. Plot the histogram of this bimodal distribution. \n",
    "    3.1. You can use whatever library you want\n",
    "4. Calculate kurtosis and skewness. \n",
    "    4.1. You can use whatever library you want. But I suggest you try SciPy's skew() and kurtosis().    "
   ]
  },
  {
   "cell_type": "code",
   "execution_count": null,
   "metadata": {},
   "outputs": [],
   "source": [
    "import numpy as np\n",
    "import pandas as pd\n",
    "from scipy.stats import kurtosis, skew\n",
    "import statsmodels.api as sm\n",
    "import matplotlib.pyplot as plt\n"
   ]
  },
  {
   "cell_type": "markdown",
   "metadata": {},
   "source": [
    "AIM 3: Test normality for the generated bimodal distribution\n",
    "\n",
    "1. Visualize the given data with a Q-Q plot\n",
    "2. Compute its normality using Shapiro-Wilk test\n",
    "    2.1. Is the data normal? Why and how did you decide that? \n",
    "3. Repeat the normality test, but this time using Anderson-Darling Test\n",
    "    3.1. Is the data normal? Why and how did you decide that?"
   ]
  },
  {
   "cell_type": "code",
   "execution_count": null,
   "metadata": {},
   "outputs": [],
   "source": [
    "from scipy.stats import shapiro, anderson\n"
   ]
  },
  {
   "cell_type": "markdown",
   "metadata": {},
   "source": [
    "AIM 4: Repeat AIM 2 and AIM 3 steps for normal data\n",
    "\n",
    "1. Generate normally distirbuted data of 100 data items\n",
    "2. Visualize it using Q-Q plot\n",
    "3. Perform both Shapiro-Wilk and Anderson-Darling test on this data\n",
    "    3.1. What from these tests tells you that the data is normal?\n",
    "4. What happens when the data items is reduced to 30?"
   ]
  },
  {
   "cell_type": "code",
   "execution_count": null,
   "metadata": {},
   "outputs": [],
   "source": []
  },
  {
   "cell_type": "markdown",
   "metadata": {},
   "source": [
    "AIM 5: ANOVA on the supplied dataset\n",
    "\n",
    "1. Load the diabetic_data.csv dataset. \n",
    "2. Find out the unique values under the 'race' columns\n",
    "    2.1. These are your distinct groups\n",
    "3. Visualize the continuous variable using first histogram and the Q-Q plot\n",
    "    3.1. Does it look normally distributed?\n",
    "4. Since the sample size is large, use Anderson-Darling test to objectively test if the data is normally distributed \n",
    "5. Next, using boxplot, visualize the 'num_med_proc' distribution across the different categories under the 'race' column\n",
    "    5.1. Based on the visuals, we would like to test if there's difference in the number of medications and procedures for different categories of races. \n",
    "    5.2. What will be the Null Hypothesis and Alternative Hypothesis?\n",
    "    H0 (Null Hypothesis): ??\n",
    "    Ha (Alternative Hypothesis): ??\n",
    "6. Use first ANOVA to test the hypothesis\n",
    "    6.1. What is the result?\n",
    "7. Now use Kruskal-Wallis Test, since the data is not normally distributed\n",
    "    7.1. What is the result?\n",
    "8. What can you conclude from the results of the above two tests, even though the data is non-normal?"
   ]
  },
  {
   "cell_type": "code",
   "execution_count": null,
   "metadata": {},
   "outputs": [],
   "source": [
    "from scipy.stats import kruskal\n",
    "import scipy.stats as stats\n",
    "\n",
    "\n"
   ]
  }
 ],
 "metadata": {
  "kernelspec": {
   "display_name": "Python 3",
   "language": "python",
   "name": "python3"
  },
  "language_info": {
   "codemirror_mode": {
    "name": "ipython",
    "version": 3
   },
   "file_extension": ".py",
   "mimetype": "text/x-python",
   "name": "python",
   "nbconvert_exporter": "python",
   "pygments_lexer": "ipython3",
   "version": "3.11.5"
  }
 },
 "nbformat": 4,
 "nbformat_minor": 2
}
