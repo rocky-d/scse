{
 "cells": [
  {
   "cell_type": "markdown",
   "metadata": {},
   "source": [
    "enumerate() method: "
   ]
  },
  {
   "cell_type": "code",
   "execution_count": 1,
   "metadata": {},
   "outputs": [
    {
     "name": "stdout",
     "output_type": "stream",
     "text": [
      "idx = 0, char = 'H'\n",
      "idx = 1, char = 'o'\n",
      "idx = 2, char = 'w'\n",
      "idx = 3, char = 'l'\n",
      "idx = 4, char = \"'\"\n",
      "idx = 5, char = 's'\n",
      "idx = 6, char = ' '\n",
      "idx = 7, char = 'M'\n",
      "idx = 8, char = 'o'\n",
      "idx = 9, char = 'v'\n",
      "idx = 10, char = 'i'\n",
      "idx = 11, char = 'n'\n",
      "idx = 12, char = 'g'\n",
      "idx = 13, char = ' '\n",
      "idx = 14, char = 'C'\n",
      "idx = 15, char = 'a'\n",
      "idx = 16, char = 's'\n",
      "idx = 17, char = 't'\n",
      "idx = 18, char = 'l'\n",
      "idx = 19, char = 'e'\n"
     ]
    }
   ],
   "source": [
    "str1 = \"Howl's Moving Castle\"\n",
    "\n",
    "for idx, char in enumerate(str1):\n",
    "    print(f\"{idx = }, {char = }\")\n"
   ]
  },
  {
   "cell_type": "markdown",
   "metadata": {},
   "source": [
    "join() method:"
   ]
  },
  {
   "cell_type": "code",
   "execution_count": 2,
   "metadata": {},
   "outputs": [
    {
     "name": "stdout",
     "output_type": "stream",
     "text": [
      "Baa, baa, black, sheep\n"
     ]
    }
   ],
   "source": [
    "some_list = ['Baa', 'baa', 'black', 'sheep']\n",
    "\n",
    "print(', '.join(some_list))\n"
   ]
  },
  {
   "cell_type": "markdown",
   "metadata": {},
   "source": [
    "random() method:"
   ]
  },
  {
   "cell_type": "code",
   "execution_count": 3,
   "metadata": {},
   "outputs": [
    {
     "name": "stdout",
     "output_type": "stream",
     "text": [
      "baa\n",
      "sheep\n"
     ]
    }
   ],
   "source": [
    "from random import choice, randint\n",
    "\n",
    "some_list = ['Baa', 'baa', 'black', 'sheep']\n",
    "\n",
    "print(choice(some_list))\n",
    "print(some_list[randint(0, 3)])\n"
   ]
  }
 ],
 "metadata": {
  "kernelspec": {
   "display_name": "Python 3",
   "language": "python",
   "name": "python3"
  },
  "language_info": {
   "codemirror_mode": {
    "name": "ipython",
    "version": 3
   },
   "file_extension": ".py",
   "mimetype": "text/x-python",
   "name": "python",
   "nbconvert_exporter": "python",
   "pygments_lexer": "ipython3",
   "version": "3.11.9"
  }
 },
 "nbformat": 4,
 "nbformat_minor": 2
}
