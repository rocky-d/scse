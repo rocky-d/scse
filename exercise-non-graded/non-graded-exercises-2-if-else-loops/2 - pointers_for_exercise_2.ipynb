{
 "cells": [
  {
   "cell_type": "markdown",
   "metadata": {},
   "source": [
    "enumerate() method: "
   ]
  },
  {
   "cell_type": "code",
   "execution_count": 1,
   "metadata": {},
   "outputs": [
    {
     "name": "stdout",
     "output_type": "stream",
     "text": [
      "0 H\n",
      "1 o\n",
      "2 w\n",
      "3 l\n",
      "4 '\n",
      "5 s\n",
      "6  \n",
      "7 M\n",
      "8 o\n",
      "9 v\n",
      "10 i\n",
      "11 n\n",
      "12 g\n",
      "13  \n",
      "14 C\n",
      "15 a\n",
      "16 s\n",
      "17 t\n",
      "18 l\n",
      "19 e\n"
     ]
    }
   ],
   "source": [
    "str1 = \"Howl's Moving Castle\"\n",
    "for i, char in enumerate(str1):\n",
    "    print(i, char)\n"
   ]
  },
  {
   "cell_type": "markdown",
   "metadata": {},
   "source": [
    "join() method:"
   ]
  },
  {
   "cell_type": "code",
   "execution_count": 2,
   "metadata": {},
   "outputs": [
    {
     "name": "stdout",
     "output_type": "stream",
     "text": [
      "Baa, baa, black, sheep\n"
     ]
    }
   ],
   "source": [
    "some_list = ['Baa', 'baa', 'black', 'sheep']\n",
    "\n",
    "print(', '.join(some_list))\n"
   ]
  },
  {
   "cell_type": "markdown",
   "metadata": {},
   "source": [
    "random() method:"
   ]
  },
  {
   "cell_type": "code",
   "execution_count": 3,
   "metadata": {},
   "outputs": [
    {
     "name": "stdout",
     "output_type": "stream",
     "text": [
      "baa\n",
      "black\n"
     ]
    }
   ],
   "source": [
    "from random import choice, randint\n",
    "\n",
    "some_list = ['Baa', 'baa', 'black', 'sheep']\n",
    "\n",
    "print(choice(some_list))\n",
    "print(some_list[randint(0, 3)])\n"
   ]
  }
 ],
 "metadata": {
  "kernelspec": {
   "display_name": "Python 3",
   "language": "python",
   "name": "python3"
  },
  "language_info": {
   "codemirror_mode": {
    "name": "ipython",
    "version": 3
   },
   "file_extension": ".py",
   "mimetype": "text/x-python",
   "name": "python",
   "nbconvert_exporter": "python",
   "pygments_lexer": "ipython3",
   "version": "3.11.9"
  }
 },
 "nbformat": 4,
 "nbformat_minor": 2
}
